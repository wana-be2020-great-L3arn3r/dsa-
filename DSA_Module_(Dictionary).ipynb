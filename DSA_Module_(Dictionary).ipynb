{
 "cells": [
  {
   "cell_type": "markdown",
   "metadata": {
    "id": "ooaiSSuSTt7A"
   },
   "source": [
    "##  Python Dictionaries — DSA Theory\n",
    "\n",
    "A **Dictionary** in Python is an **unordered, mutable collection of key-value pairs**.  \n",
    "It is used when you need to store data values where each value is associated with a unique key.\n",
    "\n",
    "---\n",
    "\n",
    "###  Characteristics:\n",
    "- **Unordered (pre Python 3.7)** and **Insertion Ordered (Python 3.7+)**\n",
    "- **Key-Value Pairs**: Each element is a pair — key and its corresponding value.\n",
    "- **Keys are unique**, values can be duplicate.\n",
    "- **Mutable**: Can add, modify, or delete key-value pairs.\n",
    "- **Heterogeneous**: Both keys and values can be of different data types.\n",
    "\n",
    "\n",
    "\n",
    "---\n",
    "\n",
    "###  Common Operations in Dictionaries:\n",
    "\n",
    "| Operation        | Description                                         |\n",
    "|:----------------|:----------------------------------------------------|\n",
    "| `get()`          | Returns value for a key, returns `None` if not found |\n",
    "| `keys()`         | Returns a list-like view of all keys                |\n",
    "| `values()`       | Returns a list-like view of all values              |\n",
    "| `items()`        | Returns a view of key-value pairs                   |\n",
    "| `update()`       | Updates one dictionary with another's key-value pairs|\n",
    "| `pop()`          | Removes a key and returns its value                 |\n",
    "| `popitem()`      | Removes and returns the last inserted item (key, value)|\n",
    "| `clear()`        | Removes all items from dictionary                   |\n",
    "| `copy()`         | Returns a shallow copy of the dictionary            |\n",
    "| `setdefault()`   | Returns value if key exists; otherwise sets a new key with a default value |\n",
    "| `del` keyword    | Removes a key-value pair or entire dictionary       |\n",
    "\n",
    "---\n",
    "\n"
   ]
  },
  {
   "cell_type": "markdown",
   "metadata": {
    "id": "SBzO5ZxxUEu9"
   },
   "source": [
    "### 1. Declaration of Dictionary"
   ]
  },
  {
   "cell_type": "code",
   "execution_count": null,
   "metadata": {
    "id": "2oDKu3YIULE_"
   },
   "outputs": [],
   "source": [
    "# Declaring a dictionary\n",
    "student = {\n",
    "    \"name\": \"Alex\",\n",
    "    \"age\": 21,\n",
    "    \"branch\": \"Machine Learning\"\n",
    "}\n",
    "print(\"Dictionary:\", student)\n"
   ]
  },
  {
   "cell_type": "markdown",
   "metadata": {
    "id": "msS26jRbUZc8"
   },
   "source": [
    "## Functions of Dictionary"
   ]
  },
  {
   "cell_type": "markdown",
   "metadata": {
    "id": "RhhYXKL8Ud-1"
   },
   "source": [
    "### 1. get() — Fetch value by key safely"
   ]
  },
  {
   "cell_type": "code",
   "execution_count": 1,
   "metadata": {
    "id": "4kcWr3ZGUnBf"
   },
   "outputs": [
    {
     "name": "stdout",
     "output_type": "stream",
     "text": [
      "Alex\n",
      "None\n"
     ]
    }
   ],
   "source": [
    "person = {\"name\": \"Alex\", \"age\": 25, \"city\": \"Mumbai\"}\n",
    "\n",
    "# Fetch existing key\n",
    "print(person.get(\"name\"))        # Output: Alex\n",
    "\n",
    "# Fetch non-existing key\n",
    "print(person.get(\"country\"))     # Output: None\n"
   ]
  },
  {
   "cell_type": "markdown",
   "metadata": {
    "id": "-nvA-l21VCxF"
   },
   "source": [
    "### 2. key ()"
   ]
  },
  {
   "cell_type": "code",
   "execution_count": 1,
   "metadata": {
    "colab": {
     "base_uri": "https://localhost:8080/"
    },
    "id": "q1RLU6ctVidx",
    "outputId": "6b7432a1-4305-413d-d28c-ed98ec03f251"
   },
   "outputs": [
    {
     "name": "stdout",
     "output_type": "stream",
     "text": [
      "dict_keys(['name', 'age', 'city'])\n"
     ]
    }
   ],
   "source": [
    "person = {\"name\": \"Alex\", \"age\": 25, \"city\": \"Mumbai\"}\n",
    "\n",
    "# Get all keys\n",
    "print(person.keys())\n"
   ]
  },
  {
   "cell_type": "markdown",
   "metadata": {
    "id": "GPJmFwpzVkyd"
   },
   "source": [
    "### 3. values ()"
   ]
  },
  {
   "cell_type": "code",
   "execution_count": 2,
   "metadata": {
    "id": "tAhhXQQCVyXD"
   },
   "outputs": [
    {
     "name": "stdout",
     "output_type": "stream",
     "text": [
      "dict_values(['Alex', 25, 'Mumbai'])\n"
     ]
    }
   ],
   "source": [
    "person = {\"name\": \"Alex\", \"age\": 25, \"city\": \"Mumbai\"}\n",
    "\n",
    "# Get all values\n",
    "print(person.values())\n"
   ]
  },
  {
   "cell_type": "markdown",
   "metadata": {
    "id": "07jXr1EdV0tE"
   },
   "source": [
    "### 4. items ()"
   ]
  },
  {
   "cell_type": "code",
   "execution_count": 3,
   "metadata": {
    "id": "3uXEsWP2V48I"
   },
   "outputs": [
    {
     "name": "stdout",
     "output_type": "stream",
     "text": [
      "dict_items([('name', 'Alex'), ('age', 25), ('city', 'Mumbai')])\n"
     ]
    }
   ],
   "source": [
    "person = {\"name\": \"Alex\", \"age\": 25, \"city\": \"Mumbai\"}\n",
    "\n",
    "# Get all key-value pairs\n",
    "print(person.items())\n"
   ]
  },
  {
   "cell_type": "markdown",
   "metadata": {
    "id": "rVcOl1PLWiZS"
   },
   "source": [
    "### 5. update ()"
   ]
  },
  {
   "cell_type": "code",
   "execution_count": 2,
   "metadata": {
    "colab": {
     "base_uri": "https://localhost:8080/"
    },
    "id": "apVzFHIoWmsv",
    "outputId": "afee41a2-bfa0-4780-92dc-4a21072f6fd0"
   },
   "outputs": [
    {
     "name": "stdout",
     "output_type": "stream",
     "text": [
      "{'name': 'Alex', 'age': 26, 'city': 'Mumbai', 'country': 'India'}\n"
     ]
    }
   ],
   "source": [
    "person = {\"name\": \"Alex\", \"age\": 25, \"city\": \"Mumbai\"}\n",
    "\n",
    "# Update dictionary with new data\n",
    "person.update({\"age\": 26, \"country\": \"India\"})\n",
    "print(person)\n"
   ]
  },
  {
   "cell_type": "markdown",
   "metadata": {
    "id": "mE9e71AkWxDB"
   },
   "source": [
    "### 6. pop ()"
   ]
  },
  {
   "cell_type": "code",
   "execution_count": 3,
   "metadata": {
    "colab": {
     "base_uri": "https://localhost:8080/"
    },
    "id": "_2Au2WrHW0ro",
    "outputId": "70eb1ae9-59e3-4c3b-9552-969dae0e2192"
   },
   "outputs": [
    {
     "name": "stdout",
     "output_type": "stream",
     "text": [
      "Removed value: Mumbai\n",
      "{'name': 'Alex', 'age': 25}\n"
     ]
    }
   ],
   "source": [
    "person = {\"name\": \"Alex\", \"age\": 25, \"city\": \"Mumbai\"}\n",
    "\n",
    "# Remove a key and get its value\n",
    "removed_value = person.pop(\"city\")\n",
    "print(\"Removed value:\", removed_value)\n",
    "print(person)\n"
   ]
  },
  {
   "cell_type": "markdown",
   "metadata": {
    "id": "IGhN8avcXK6H"
   },
   "source": [
    "### 7. popitem ()"
   ]
  },
  {
   "cell_type": "code",
   "execution_count": 4,
   "metadata": {
    "colab": {
     "base_uri": "https://localhost:8080/"
    },
    "id": "QX6uaCrfXQeK",
    "outputId": "f08fb70e-16a6-4528-d1de-cd6981af0a27"
   },
   "outputs": [
    {
     "name": "stdout",
     "output_type": "stream",
     "text": [
      "Removed last item: ('city', 'Mumbai')\n",
      "{'name': 'Alex', 'age': 25}\n"
     ]
    }
   ],
   "source": [
    "person = {\"name\": \"Alex\", \"age\": 25, \"city\": \"Mumbai\"}\n",
    "\n",
    "# Remove last inserted item\n",
    "last_item = person.popitem()\n",
    "print(\"Removed last item:\", last_item)\n",
    "print(person)\n"
   ]
  },
  {
   "cell_type": "markdown",
   "metadata": {
    "id": "8I1SDo2nXWTh"
   },
   "source": [
    "### 8. clear ()"
   ]
  },
  {
   "cell_type": "code",
   "execution_count": null,
   "metadata": {
    "id": "AVDhyZ3PXYwq"
   },
   "outputs": [],
   "source": [
    "person = {\"name\": \"Alex\", \"age\": 25, \"city\": \"Mumbai\"}\n",
    "\n",
    "# Clear dictionary\n",
    "person.clear()\n",
    "print(person)\n"
   ]
  },
  {
   "cell_type": "markdown",
   "metadata": {
    "id": "NIiQigz4XtIU"
   },
   "source": []
  },
  {
   "cell_type": "markdown",
   "metadata": {
    "id": "-cXOl3nlXteP"
   },
   "source": [
    "### 9. copy ()"
   ]
  },
  {
   "cell_type": "code",
   "execution_count": 5,
   "metadata": {
    "colab": {
     "base_uri": "https://localhost:8080/"
    },
    "id": "dsHGbiNJX1Ft",
    "outputId": "a48d135a-6432-4560-ce01-69b0974ee95a"
   },
   "outputs": [
    {
     "name": "stdout",
     "output_type": "stream",
     "text": [
      "Copy: {'name': 'Alex', 'age': 25, 'city': 'Mumbai'}\n"
     ]
    }
   ],
   "source": [
    "person = {\"name\": \"Alex\", \"age\": 25, \"city\": \"Mumbai\"}\n",
    "\n",
    "# Make a copy\n",
    "person_copy = person.copy()\n",
    "print(\"Copy:\", person_copy)\n"
   ]
  },
  {
   "cell_type": "markdown",
   "metadata": {
    "id": "Yz1pio7rX6At"
   },
   "source": [
    "### 10. setdefault ()"
   ]
  },
  {
   "cell_type": "code",
   "execution_count": 6,
   "metadata": {
    "colab": {
     "base_uri": "https://localhost:8080/"
    },
    "id": "mspHX_dmX9Ba",
    "outputId": "b03ef9b5-5063-40c5-d9a2-79def19af99f"
   },
   "outputs": [
    {
     "name": "stdout",
     "output_type": "stream",
     "text": [
      "{'name': 'Alex', 'age': 25, 'city': 'Mumbai', 'country': 'India'}\n"
     ]
    }
   ],
   "source": [
    "person = {\"name\": \"Alex\", \"age\": 25, \"city\": \"Mumbai\"}\n",
    "\n",
    "# Get value if exists, else set a default\n",
    "value = person.setdefault(\"country\", \"India\")\n",
    "print(person)\n"
   ]
  },
  {
   "cell_type": "markdown",
   "metadata": {
    "id": "FC4k-CP3YEjt"
   },
   "source": [
    "### 11. del ()"
   ]
  },
  {
   "cell_type": "code",
   "execution_count": 5,
   "metadata": {
    "colab": {
     "base_uri": "https://localhost:8080/",
     "height": 193
    },
    "id": "7vaPH4prYHgh",
    "outputId": "f7cd558d-00d2-4330-e7e3-1f505b1adbea"
   },
   "outputs": [
    {
     "name": "stdout",
     "output_type": "stream",
     "text": [
      "{'name': 'Alex', 'city': 'Mumbai'}\n"
     ]
    },
    {
     "ename": "NameError",
     "evalue": "name 'person' is not defined",
     "output_type": "error",
     "traceback": [
      "\u001b[31m---------------------------------------------------------------------------\u001b[39m",
      "\u001b[31mNameError\u001b[39m                                 Traceback (most recent call last)",
      "\u001b[36mCell\u001b[39m\u001b[36m \u001b[39m\u001b[32mIn[5]\u001b[39m\u001b[32m, line 9\u001b[39m\n\u001b[32m      7\u001b[39m \u001b[38;5;66;03m# Delete the entire dictionary\u001b[39;00m\n\u001b[32m      8\u001b[39m \u001b[38;5;28;01mdel\u001b[39;00m person\n\u001b[32m----> \u001b[39m\u001b[32m9\u001b[39m \u001b[38;5;28mprint\u001b[39m(\u001b[43mperson\u001b[49m)  \u001b[38;5;66;03m# Uncommenting this will raise a NameError\u001b[39;00m\n",
      "\u001b[31mNameError\u001b[39m: name 'person' is not defined"
     ]
    }
   ],
   "source": [
    "person = {\"name\": \"Alex\", \"age\": 25, \"city\": \"Mumbai\"}\n",
    "\n",
    "# Delete a specific key\n",
    "del person[\"age\"]\n",
    "print(person)\n",
    "\n",
    "# Delete the entire dictionary\n",
    "del person\n",
    "#print(person)  # Uncommenting this will raise a NameError\n"
   ]
  },
  {
   "cell_type": "markdown",
   "metadata": {
    "id": "2s0MgtWbY9Cs"
   },
   "source": [
    "# DSA Problems"
   ]
  },
  {
   "cell_type": "markdown",
   "metadata": {
    "id": "HHqrqnYGZA4A"
   },
   "source": [
    "## 1.Given a list of numbers, count how many times each number occurs using a dictionary.\n",
    "\n",
    "Example\n",
    "\n",
    "Input: [1, 2, 2, 3, 3, 3, 4]  \n",
    "Output: {1: 1, 2: 2, 3: 3, 4: 1}\n"
   ]
  },
  {
   "cell_type": "code",
   "execution_count": 9,
   "metadata": {
    "colab": {
     "base_uri": "https://localhost:8080/"
    },
    "id": "Zf4LvL8_ZaID",
    "outputId": "96fbd64c-dcd0-4e2d-ce76-d8e64f8d1bcc"
   },
   "outputs": [
    {
     "name": "stdout",
     "output_type": "stream",
     "text": [
      "{1: 1, 2: 2, 3: 3, 4: 1}\n"
     ]
    }
   ],
   "source": [
    "numbers = [1, 2, 2, 3, 3, 3, 4]\n",
    "frequency = {}\n",
    "\n",
    "for num in numbers:\n",
    "    if num in frequency:\n",
    "        frequency[num] += 1\n",
    "    else:\n",
    "        frequency[num] = 1\n",
    "\n",
    "print(frequency)\n"
   ]
  },
  {
   "cell_type": "markdown",
   "metadata": {
    "id": "mNKeVfemZ9Nq"
   },
   "source": [
    "## 2. Find the Key with Maximum Value"
   ]
  },
  {
   "cell_type": "code",
   "execution_count": 6,
   "metadata": {
    "id": "-_pVT6icZ2qd"
   },
   "outputs": [
    {
     "name": "stdout",
     "output_type": "stream",
     "text": [
      "Topper is: Emma\n"
     ]
    }
   ],
   "source": [
    "marks = {\"John\": 45, \"Emma\": 88, \"Noah\": 77}\n",
    "\n",
    "# Find key with maximum value\n",
    "topper = max(marks, key=marks.get)\n",
    "print(\"Topper is:\", topper)\n"
   ]
  },
  {
   "cell_type": "markdown",
   "metadata": {
    "id": "i-oUKvIBaDAw"
   },
   "source": [
    "### 3. Merge Two Dictionaries\n",
    "dict1 = {\"a\": 1, \"b\": 2}\n",
    "dict2 = {\"b\": 3, \"c\": 4}\n",
    "\n",
    "Output: {'a': 1, 'b': 3, 'c': 4}\n"
   ]
  },
  {
   "cell_type": "code",
   "execution_count": 7,
   "metadata": {
    "id": "mOVFsfIOaKx6"
   },
   "outputs": [
    {
     "name": "stdout",
     "output_type": "stream",
     "text": [
      "{'a': 1, 'b': 3, 'c': 4}\n"
     ]
    }
   ],
   "source": [
    "dict1 = {\"a\": 1, \"b\": 2}\n",
    "dict2 = {\"b\": 3, \"c\": 4}\n",
    "\n",
    "# Merge using update()\n",
    "dict1.update(dict2)\n",
    "print(dict1)\n"
   ]
  },
  {
   "cell_type": "markdown",
   "metadata": {
    "id": "LJc_Kr_ta9n5"
   },
   "source": [
    "### 4. Invert a Dictionary (Swap Keys and Values)\n",
    "\n",
    "Example:\n",
    "\n",
    "Input: {'a': 1, 'b': 2, 'c': 3}  \n",
    "Output: {1: 'a', 2: 'b', 3: 'c'}"
   ]
  },
  {
   "cell_type": "code",
   "execution_count": 8,
   "metadata": {
    "id": "mDwOswEpbJpa"
   },
   "outputs": [
    {
     "name": "stdout",
     "output_type": "stream",
     "text": [
      "{1: 'a', 2: 'b', 3: 'c'}\n"
     ]
    }
   ],
   "source": [
    "original = {'a': 1, 'b': 2, 'c': 3}\n",
    "inverted = {}\n",
    "\n",
    "for key, value in original.items():\n",
    "    inverted[value] = key\n",
    "\n",
    "print(inverted)\n"
   ]
  },
  {
   "cell_type": "markdown",
   "metadata": {
    "id": "9MfrZYVVbyj6"
   },
   "source": [
    "## 5. Check if Two Dictionaries are Equal\n",
    "\n",
    "Example\n",
    "\n",
    "Input:\n",
    "dict1 = {\"a\": 1, \"b\": 2}\n",
    "dict2 = {\"b\": 2, \"a\": 1}\n",
    "\n",
    "Output: True\n",
    "\n",
    "Input:\n",
    "dict1 = {\"a\": 1, \"b\": 2}\n",
    "dict2 = {\"a\": 2, \"b\": 1}\n",
    "\n",
    "Output: False\n"
   ]
  },
  {
   "cell_type": "code",
   "execution_count": null,
   "metadata": {
    "id": "esM4uBmrcCbs"
   },
   "outputs": [],
   "source": [
    "dict1 = {\"a\": 1, \"b\": 2}\n",
    "dict2 = {\"b\": 2, \"a\": 1}\n",
    "\n",
    "# Compare directly\n",
    "print(dict1 == dict2)  # True\n",
    "\n",
    "# Another Example\n",
    "dict3 = {\"a\": 2, \"b\": 1}\n",
    "print(dict1 == dict3)  # False\n"
   ]
  }
 ],
 "metadata": {
  "colab": {
   "provenance": []
  },
  "kernelspec": {
   "display_name": "Python 3 (ipykernel)",
   "language": "python",
   "name": "python3"
  },
  "language_info": {
   "codemirror_mode": {
    "name": "ipython",
    "version": 3
   },
   "file_extension": ".py",
   "mimetype": "text/x-python",
   "name": "python",
   "nbconvert_exporter": "python",
   "pygments_lexer": "ipython3",
   "version": "3.13.5"
  }
 },
 "nbformat": 4,
 "nbformat_minor": 4
}
