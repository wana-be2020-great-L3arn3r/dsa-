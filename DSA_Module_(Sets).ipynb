{
 "cells": [
  {
   "cell_type": "markdown",
   "metadata": {
    "id": "_uOvtbCpJqhe"
   },
   "source": [
    "##  Python Sets — DSA Theory\n",
    "\n",
    "A **Set** in Python is an **unordered, unindexed, mutable collection of unique elements**.  \n",
    "It is used when you need to store **non-duplicate data items** efficiently and perform fast membership tests.\n",
    "\n",
    "---\n",
    "\n",
    "### 📌 Characteristics:\n",
    "- **Unordered:** No fixed order of elements.\n",
    "- **No Duplicates:** Only unique elements are stored.\n",
    "- **Mutable:** Can add or remove elements.\n",
    "- **Heterogeneous:** Can store elements of different data types.\n",
    "\n",
    "\n",
    "---\n",
    "\n",
    "### 📌 Common Operations in Sets:\n",
    "\n",
    "| Operation        | Description                                        |\n",
    "|:----------------|:--------------------------------------------------|\n",
    "| `add()`          | Adds a single element to the set                   |\n",
    "| `update()`       | Adds multiple elements from an iterable            |\n",
    "| `remove()`       | Removes a specified element (KeyError if not found)|\n",
    "| `discard()`      | Removes a specified element (no error if missing)  |\n",
    "| `pop()`          | Removes and returns a random element               |\n",
    "| `clear()`        | Removes all elements from the set                  |\n",
    "| `union()`        | Returns a new set with elements from both sets     |\n",
    "| `intersection()` | Returns common elements between sets               |\n",
    "| `difference()`   | Returns elements in one set but not the other      |\n",
    "| `symmetric_difference()` | Returns elements not common to both sets   |\n",
    "| `issubset()`     | Checks if one set is a subset of another           |\n",
    "| `issuperset()`   | Checks if one set is a superset of another         |\n",
    "| `len()`          | Returns the number of elements in the set          |\n",
    "\n",
    "---\n",
    "\n"
   ]
  },
  {
   "cell_type": "markdown",
   "metadata": {
    "id": "sIMLwcw9KWvt"
   },
   "source": [
    "## 1. Declaring a Set"
   ]
  },
  {
   "cell_type": "code",
   "execution_count": null,
   "metadata": {
    "id": "lideQfBkKbkj"
   },
   "outputs": [],
   "source": [
    "\n",
    "my_set = {1, 2, 3, 4, 5}\n",
    "print(\"Initial Set:\", my_set)\n"
   ]
  },
  {
   "cell_type": "markdown",
   "metadata": {
    "id": "u2yhr-Y8KnO5"
   },
   "source": [
    "# Functions in Set"
   ]
  },
  {
   "cell_type": "markdown",
   "metadata": {
    "id": "L6Td7MVEKp9E"
   },
   "source": [
    "## 1. add ()"
   ]
  },
  {
   "cell_type": "code",
   "execution_count": 1,
   "metadata": {
    "id": "dWjA_gOpKvwY"
   },
   "outputs": [
    {
     "name": "stdout",
     "output_type": "stream",
     "text": [
      "After add: {1, 2, 3, 4}\n"
     ]
    }
   ],
   "source": [
    "my_set = {1, 2, 3}\n",
    "my_set.add(4)\n",
    "print(\"After add:\", my_set)\n"
   ]
  },
  {
   "cell_type": "markdown",
   "metadata": {
    "id": "LBptyATXKzOD"
   },
   "source": [
    "## 2. update ()"
   ]
  },
  {
   "cell_type": "code",
   "execution_count": 1,
   "metadata": {
    "colab": {
     "base_uri": "https://localhost:8080/"
    },
    "id": "ECbgN_YyLD3W",
    "outputId": "30bd1c45-4f90-439e-d329-6bc9efa6ef90"
   },
   "outputs": [
    {
     "name": "stdout",
     "output_type": "stream",
     "text": [
      "After update: {1, 2, 3, 4, 5}\n"
     ]
    }
   ],
   "source": [
    "my_set = {1, 2}\n",
    "my_set.update([3, 4, 5])\n",
    "print(\"After update:\", my_set)\n"
   ]
  },
  {
   "cell_type": "markdown",
   "metadata": {
    "id": "QJsbBA3nLIR8"
   },
   "source": [
    "## 3. remove ()"
   ]
  },
  {
   "cell_type": "code",
   "execution_count": 3,
   "metadata": {
    "colab": {
     "base_uri": "https://localhost:8080/"
    },
    "id": "bz3rZFUmLZMN",
    "outputId": "543c254d-5618-434b-bc42-d37d5dfc30a8"
   },
   "outputs": [
    {
     "ename": "KeyError",
     "evalue": "9",
     "output_type": "error",
     "traceback": [
      "\u001b[31m---------------------------------------------------------------------------\u001b[39m",
      "\u001b[31mKeyError\u001b[39m                                  Traceback (most recent call last)",
      "\u001b[36mCell\u001b[39m\u001b[36m \u001b[39m\u001b[32mIn[3]\u001b[39m\u001b[32m, line 2\u001b[39m\n\u001b[32m      1\u001b[39m my_set = {\u001b[32m1\u001b[39m, \u001b[32m2\u001b[39m, \u001b[32m3\u001b[39m}\n\u001b[32m----> \u001b[39m\u001b[32m2\u001b[39m \u001b[43mmy_set\u001b[49m\u001b[43m.\u001b[49m\u001b[43mremove\u001b[49m\u001b[43m(\u001b[49m\u001b[32;43m9\u001b[39;49m\u001b[43m)\u001b[49m\n\u001b[32m      3\u001b[39m \u001b[38;5;28mprint\u001b[39m(\u001b[33m\"\u001b[39m\u001b[33mAfter remove:\u001b[39m\u001b[33m\"\u001b[39m, my_set)\n",
      "\u001b[31mKeyError\u001b[39m: 9"
     ]
    }
   ],
   "source": [
    "my_set = {1, 2, 3}\n",
    "my_set.remove(9)\n",
    "print(\"After remove:\", my_set)\n"
   ]
  },
  {
   "cell_type": "markdown",
   "metadata": {
    "id": "DXOXt6BQLa2j"
   },
   "source": [
    "## 4. discard ()"
   ]
  },
  {
   "cell_type": "code",
   "execution_count": 5,
   "metadata": {
    "colab": {
     "base_uri": "https://localhost:8080/"
    },
    "id": "Spj7PTLTLesU",
    "outputId": "89fdc98b-134a-4da8-9a32-288fdc6076db"
   },
   "outputs": [
    {
     "name": "stdout",
     "output_type": "stream",
     "text": [
      "After discard: {1, 2, 3}\n"
     ]
    }
   ],
   "source": [
    "my_set = {1, 2, 3}\n",
    "my_set.discard(5)  # Won't raise error\n",
    "print(\"After discard:\", my_set)\n"
   ]
  },
  {
   "cell_type": "markdown",
   "metadata": {
    "id": "mU1wIePjLqpZ"
   },
   "source": [
    "## 5. pop ()"
   ]
  },
  {
   "cell_type": "code",
   "execution_count": 4,
   "metadata": {
    "colab": {
     "base_uri": "https://localhost:8080/"
    },
    "id": "JTvHUx7GLu1u",
    "outputId": "a8b2f8da-012d-4679-eb44-09f55659772d"
   },
   "outputs": [
    {
     "name": "stdout",
     "output_type": "stream",
     "text": [
      "Removed item: 10\n",
      "After pop: {20, 30}\n"
     ]
    }
   ],
   "source": [
    "my_set = {10, 20, 30}\n",
    "removed_item = my_set.pop()\n",
    "print(\"Removed item:\", removed_item)\n",
    "print(\"After pop:\", my_set)\n"
   ]
  },
  {
   "cell_type": "markdown",
   "metadata": {
    "id": "s3I0PslHL0oG"
   },
   "source": [
    "## 6. Clear ()"
   ]
  },
  {
   "cell_type": "code",
   "execution_count": null,
   "metadata": {
    "id": "dW_r-iinL-vn"
   },
   "outputs": [],
   "source": [
    "my_set = {1, 2, 3}\n",
    "my_set.clear()\n",
    "print(\"After clear:\", my_set)"
   ]
  },
  {
   "cell_type": "markdown",
   "metadata": {
    "id": "WooA7tlXMcVN"
   },
   "source": [
    "##7. Union ()"
   ]
  },
  {
   "cell_type": "code",
   "execution_count": 5,
   "metadata": {
    "colab": {
     "base_uri": "https://localhost:8080/"
    },
    "id": "HweABzHVNLCR",
    "outputId": "49028ae2-e234-449c-9b8d-309b7acaa600"
   },
   "outputs": [
    {
     "name": "stdout",
     "output_type": "stream",
     "text": [
      "Union: {1, 2, 3, 4, 5}\n"
     ]
    }
   ],
   "source": [
    "set1 = {1, 2, 3}\n",
    "set2 = {3, 4, 5}\n",
    "result = set1.union(set2)\n",
    "print(\"Union:\", result)\n"
   ]
  },
  {
   "cell_type": "markdown",
   "metadata": {
    "id": "h2yZJaWsNVuk"
   },
   "source": [
    "## 8. Intersection ()"
   ]
  },
  {
   "cell_type": "code",
   "execution_count": 6,
   "metadata": {
    "colab": {
     "base_uri": "https://localhost:8080/"
    },
    "id": "nPQl0f__Nd2W",
    "outputId": "250bbbcd-135f-43f5-d0b0-5d8d50a337dc"
   },
   "outputs": [
    {
     "name": "stdout",
     "output_type": "stream",
     "text": [
      "Intersection: {2, 3}\n"
     ]
    }
   ],
   "source": [
    "set1 = {1, 2, 3}\n",
    "set2 = {2, 3, 4}\n",
    "result = set1.intersection(set2)\n",
    "print(\"Intersection:\", result)\n"
   ]
  },
  {
   "cell_type": "markdown",
   "metadata": {
    "id": "Fk9c75UwNwiy"
   },
   "source": [
    "## 9. symmetric_difference()"
   ]
  },
  {
   "cell_type": "code",
   "execution_count": 7,
   "metadata": {
    "colab": {
     "base_uri": "https://localhost:8080/"
    },
    "id": "ntFAL390Oy-R",
    "outputId": "44ce211f-3d48-4307-81b9-d2c627434603"
   },
   "outputs": [
    {
     "name": "stdout",
     "output_type": "stream",
     "text": [
      "Symmetric Difference: {1}\n"
     ]
    }
   ],
   "source": [
    "set1 = {1, 2, 3}\n",
    "set2 = {2, 3, 4}\n",
    "result = set1.difference(set2)\n",
    "print(\"Symmetric Difference:\", result)\n"
   ]
  },
  {
   "cell_type": "markdown",
   "metadata": {
    "id": "CBzC3FyoO2SU"
   },
   "source": [
    "## 10. issubset()"
   ]
  },
  {
   "cell_type": "code",
   "execution_count": 8,
   "metadata": {
    "colab": {
     "base_uri": "https://localhost:8080/"
    },
    "id": "-7785GjIPHpR",
    "outputId": "ec50edd1-852a-434b-9dcb-cc372bc00302"
   },
   "outputs": [
    {
     "name": "stdout",
     "output_type": "stream",
     "text": [
      "Is set1 subset of set2? True\n"
     ]
    }
   ],
   "source": [
    "set1 = {1, 2}\n",
    "set2 = {1, 2, 3}\n",
    "print(\"Is set1 subset of set2?\", set1.issubset(set2))\n"
   ]
  },
  {
   "cell_type": "markdown",
   "metadata": {
    "id": "cnRT-eOzPYcj"
   },
   "source": [
    "## 11. issuperset()"
   ]
  },
  {
   "cell_type": "code",
   "execution_count": 6,
   "metadata": {
    "colab": {
     "base_uri": "https://localhost:8080/"
    },
    "id": "nkjVovguP9DT",
    "outputId": "7c655d1a-2ef1-4570-d588-eb49c9b41f4f"
   },
   "outputs": [
    {
     "name": "stdout",
     "output_type": "stream",
     "text": [
      "Is set1 superset of set2? False\n"
     ]
    }
   ],
   "source": [
    "set1 = {1, 2, 3}\n",
    "set2 = {2, 3}\n",
    "print(\"Is set1 superset of set2?\", set2.issuperset(set1))\n"
   ]
  },
  {
   "cell_type": "markdown",
   "metadata": {
    "id": "0wOoQyeSQXfW"
   },
   "source": [
    "## 12. len()"
   ]
  },
  {
   "cell_type": "code",
   "execution_count": null,
   "metadata": {
    "id": "BjrdAIlGQjax"
   },
   "outputs": [],
   "source": [
    "my_set = {10, 20, 30, 40}\n",
    "print(\"Length of set:\", len(my_set))\n"
   ]
  },
  {
   "cell_type": "markdown",
   "metadata": {
    "id": "iw2yci-_dsBo"
   },
   "source": [
    "## DSA Questions"
   ]
  },
  {
   "cell_type": "markdown",
   "metadata": {
    "id": "_rlXtuhSeCol"
   },
   "source": [
    "1. Remove Duplicates from a List Using Set"
   ]
  },
  {
   "cell_type": "code",
   "execution_count": 10,
   "metadata": {
    "colab": {
     "base_uri": "https://localhost:8080/"
    },
    "id": "mU83yA_TeZAM",
    "outputId": "7d0d1b17-2e90-402b-acc1-ce31d4c04b75"
   },
   "outputs": [
    {
     "name": "stdout",
     "output_type": "stream",
     "text": [
      "Unique numbers: [1, 2, 3, 4, 5]\n"
     ]
    }
   ],
   "source": [
    "# Given list\n",
    "numbers = [1, 2, 3, 2, 4, 1, 5]\n",
    "\n",
    "# Remove duplicates by converting list to set and back to list\n",
    "unique_numbers = list(set(numbers))\n",
    "\n",
    "# Print unique numbers\n",
    "print(\"Unique numbers:\", unique_numbers)\n"
   ]
  },
  {
   "cell_type": "markdown",
   "metadata": {
    "id": "yWjjYKD-ea5K"
   },
   "source": [
    "2. Check if Two Sets Have Common Elements"
   ]
  },
  {
   "cell_type": "code",
   "execution_count": 11,
   "metadata": {
    "colab": {
     "base_uri": "https://localhost:8080/"
    },
    "id": "7-rXLGLsexOt",
    "outputId": "004fc815-6b86-4d44-f0ed-d64ccf7c4158"
   },
   "outputs": [
    {
     "name": "stdout",
     "output_type": "stream",
     "text": [
      "No\n"
     ]
    }
   ],
   "source": [
    "# Given sets\n",
    "set1 = {1, 2, 3}\n",
    "set2 = {4, 5, 6}\n",
    "\n",
    "# Check for common elements\n",
    "if set1.intersection(set2):\n",
    "    print(\"Yes\")\n",
    "else:\n",
    "    print(\"No\")\n"
   ]
  },
  {
   "cell_type": "markdown",
   "metadata": {
    "id": "nRam4ksLe1dP"
   },
   "source": [
    "3. Find Elements Present in Only One of the Two Sets"
   ]
  },
  {
   "cell_type": "code",
   "execution_count": 12,
   "metadata": {
    "colab": {
     "base_uri": "https://localhost:8080/"
    },
    "id": "8ahTxHHPe9mX",
    "outputId": "cfb0d942-6617-4161-f245-88764b2400cd"
   },
   "outputs": [
    {
     "name": "stdout",
     "output_type": "stream",
     "text": [
      "Elements unique to either set: {1, 2, 4, 5}\n"
     ]
    }
   ],
   "source": [
    "# Given sets\n",
    "set1 = {1, 2, 3}\n",
    "set2 = {3, 4, 5}\n",
    "\n",
    "# Symmetric difference gives elements not common to both\n",
    "result = set1.symmetric_difference(set2)\n",
    "\n",
    "# Print result\n",
    "print(\"Elements unique to either set:\", result)\n"
   ]
  },
  {
   "cell_type": "markdown",
   "metadata": {
    "id": "glVMLYZ_e_pq"
   },
   "source": [
    "4. Count the Number of Unique Characters in a String"
   ]
  },
  {
   "cell_type": "code",
   "execution_count": 13,
   "metadata": {
    "colab": {
     "base_uri": "https://localhost:8080/"
    },
    "id": "JG2aOlXofDep",
    "outputId": "1f8b1a45-63cd-4245-dd7b-32135017dd89"
   },
   "outputs": [
    {
     "name": "stdout",
     "output_type": "stream",
     "text": [
      "Number of unique characters: 4\n"
     ]
    }
   ],
   "source": [
    "# Given string\n",
    "text = \"hello\"\n",
    "\n",
    "# Convert string to set to get unique characters\n",
    "unique_chars = set(text)\n",
    "\n",
    "# Print count of unique characters\n",
    "print(\"Number of unique characters:\", len(unique_chars))\n"
   ]
  },
  {
   "cell_type": "markdown",
   "metadata": {
    "id": "CE0ga_p3fF6s"
   },
   "source": [
    "5. Check if One Set is a Subset of Another"
   ]
  },
  {
   "cell_type": "code",
   "execution_count": null,
   "metadata": {
    "id": "OLExABOpfMYw"
   },
   "outputs": [],
   "source": [
    "# Given sets\n",
    "set1 = {1, 2}\n",
    "set2 = {1, 2, 3, 4}\n",
    "\n",
    "# Check if set1 is subset of set2\n",
    "print(\"Is set1 a subset of set2?\", set1.issubset(set2))\n"
   ]
  }
 ],
 "metadata": {
  "colab": {
   "provenance": []
  },
  "kernelspec": {
   "display_name": "Python 3 (ipykernel)",
   "language": "python",
   "name": "python3"
  },
  "language_info": {
   "codemirror_mode": {
    "name": "ipython",
    "version": 3
   },
   "file_extension": ".py",
   "mimetype": "text/x-python",
   "name": "python",
   "nbconvert_exporter": "python",
   "pygments_lexer": "ipython3",
   "version": "3.13.5"
  }
 },
 "nbformat": 4,
 "nbformat_minor": 4
}
