{
 "cells": [
  {
   "cell_type": "markdown",
   "metadata": {
    "id": "5xnuVbcnVfwp"
   },
   "source": [
    "#  Python Lists — DSA Theory\n",
    "\n",
    "A **List** in Python is a **dynamic, ordered, mutable sequence** of elements.\n",
    "\n",
    "##  Characteristics:\n",
    "\n",
    "* **Indexed:** Items are accessed via zero-based index.\n",
    "* **Mutable:** You can modify, add, or remove elements.\n",
    "* **Allows Duplicates:** Lists can have multiple occurrences of the same value.\n",
    "* **Heterogeneous:** Can store elements of different data types.\n",
    "* **Dynamic Size:** Lists can grow or shrink as needed during execution.\n",
    "\n",
    "---\n",
    "\n",
    "## Common Operations in Lists:\n",
    "\n",
    "| Operation         | Description                                      |\n",
    "| :---------------- | :----------------------------------------------- |\n",
    "| `append()`        | Add an element at the end                        |\n",
    "| `extend()`        | Add multiple elements from another iterable      |\n",
    "| `insert()`        | Insert an element at a specified position        |\n",
    "| `remove()`        | Remove the first occurrence of a specified value |\n",
    "| `pop()`           | Remove and return an element at a given index    |\n",
    "| `clear()`         | Remove all elements from the list                |\n",
    "| `index()`         | Return the first index of a specified value      |\n",
    "| `count()`         | Count the number of occurrences of a value       |\n",
    "| `reverse()`       | Reverse the list in-place                        |\n",
    "| `sort()`          | Sort the list in ascending order (by default)    |\n",
    "| `copy()`          | Return a shallow copy of the list                |\n",
    "| `len()`           | Return the number of elements in the list        |\n",
    "| `sum()`           | Return the sum of all numeric elements           |\n",
    "| `max()` / `min()` | Return the largest or smallest element           |\n",
    "\n",
    "---\n",
    "\n",
    "                                                                         "
   ]
  },
  {
   "cell_type": "markdown",
   "metadata": {
    "id": "r12sV7Gfs6rH"
   },
   "source": [
    "## Creating a List"
   ]
  },
  {
   "cell_type": "code",
   "execution_count": 1,
   "metadata": {
    "id": "l5yOdU4rtGLe"
   },
   "outputs": [
    {
     "name": "stdout",
     "output_type": "stream",
     "text": [
      "List: [10, 20, 30, 40, 20]\n"
     ]
    }
   ],
   "source": [
    "# Creating a list\n",
    "my_list = [10, 20, 30, 40, 20]\n",
    "print(\"List:\", my_list)\n"
   ]
  },
  {
   "cell_type": "markdown",
   "metadata": {
    "id": "WL4fuHCIXwA2"
   },
   "source": [
    " # 1. append()"
   ]
  },
  {
   "cell_type": "code",
   "execution_count": 2,
   "metadata": {
    "colab": {
     "base_uri": "https://localhost:8080/"
    },
    "id": "uTEo4jksX3UF",
    "outputId": "c2d15833-14ba-4cdb-aeb8-9e693169d611"
   },
   "outputs": [
    {
     "name": "stdout",
     "output_type": "stream",
     "text": [
      "After append: [10, 20, 30, 40]\n"
     ]
    }
   ],
   "source": [
    "# append() → Adds a single element to the end of the list\n",
    "numbers = [10, 20, 30]\n",
    "numbers.append(40)\n",
    "print(\"After append:\", numbers)  # [10, 20, 30, 40]\n"
   ]
  },
  {
   "cell_type": "markdown",
   "metadata": {
    "id": "TreZmbSgYZU4"
   },
   "source": [
    " # 2. extend()"
   ]
  },
  {
   "cell_type": "code",
   "execution_count": null,
   "metadata": {
    "id": "FZHDbUs5ZYEr"
   },
   "outputs": [],
   "source": [
    "# extend() → Adds all elements from another iterable (like another list)\n",
    "numbers = [1, 2, 3]\n",
    "numbers.extend([4, 5, 6])\n",
    "print(\"After extend:\", numbers)  # [1, 2, 3, 4, 5, 6]\n"
   ]
  },
  {
   "cell_type": "markdown",
   "metadata": {
    "id": "9zB4JwjFGQsa"
   },
   "source": [
    "##  3. insert()\n",
    "\n"
   ]
  },
  {
   "cell_type": "code",
   "execution_count": null,
   "metadata": {
    "id": "Edf-WNspGXRO"
   },
   "outputs": [],
   "source": [
    "# insert() → Inserts an element at a specified index\n",
    "numbers = [1, 3, 4]\n",
    "numbers.insert(1, 2)  # Insert 2 at index 1\n",
    "print(\"After insert:\", numbers)  # [1, 2, 3, 4]\n",
    "\n"
   ]
  },
  {
   "cell_type": "markdown",
   "metadata": {
    "id": "uCIDGn0IHEKa"
   },
   "source": [
    "# 4. remove ()\n",
    "    "
   ]
  },
  {
   "cell_type": "code",
   "execution_count": null,
   "metadata": {
    "id": "XSQqJDZZHMk9"
   },
   "outputs": [],
   "source": [
    "# remove() → Removes the first occurrence of a specified value\n",
    "numbers = [1, 2, 3, 2]\n",
    "numbers.remove(2)  # Removes the first 2\n",
    "print(\"After remove:\", numbers)  # [1, 3, 2]\n"
   ]
  },
  {
   "cell_type": "markdown",
   "metadata": {
    "id": "YlhUDLTeIIAN"
   },
   "source": [
    "# 5. pop ()\n"
   ]
  },
  {
   "cell_type": "code",
   "execution_count": 3,
   "metadata": {
    "id": "cHspfr8PHaP8"
   },
   "outputs": [
    {
     "name": "stdout",
     "output_type": "stream",
     "text": [
      "Popped value: 30\n",
      "After pop: [10, 20]\n"
     ]
    }
   ],
   "source": [
    "# pop() → Removes and returns element at given index (default is last)\n",
    "numbers = [10, 20, 30]\n",
    "popped_value = numbers.pop()  # Removes 30\n",
    "print(\"Popped value:\", popped_value)\n",
    "print(\"After pop:\", numbers)  # [10, 20]\n"
   ]
  },
  {
   "cell_type": "markdown",
   "metadata": {
    "id": "SwUH8E-JHTBM"
   },
   "source": [
    "# 6. clear ()\n"
   ]
  },
  {
   "cell_type": "code",
   "execution_count": null,
   "metadata": {
    "id": "Yc3AX7U7IRRV"
   },
   "outputs": [],
   "source": [
    "# clear() → Removes all elements from the list\n",
    "numbers = [10, 20, 30]\n",
    "numbers.clear()\n",
    "print(\"After clear:\", numbers)  # []\n"
   ]
  },
  {
   "cell_type": "markdown",
   "metadata": {
    "id": "xd3zdt_VIh3Q"
   },
   "source": [
    "# 7. index ()"
   ]
  },
  {
   "cell_type": "code",
   "execution_count": null,
   "metadata": {
    "id": "wODuAkKYInC8"
   },
   "outputs": [],
   "source": [
    "# index() → Returns the index of the first occurrence of a specified value\n",
    "numbers = [10, 20, 30, 40]\n",
    "index_pos = numbers.index(30)\n",
    "print(\"Index of 30:\", index_pos)  # 2\n"
   ]
  },
  {
   "cell_type": "markdown",
   "metadata": {
    "id": "8V89RuIJI9tD"
   },
   "source": [
    "# 8. count ()\n"
   ]
  },
  {
   "cell_type": "code",
   "execution_count": null,
   "metadata": {
    "id": "FWWkXzV7JEPB"
   },
   "outputs": [],
   "source": [
    "# count() → Counts the number of times a value occurs in the list\n",
    "numbers = [1, 2, 3, 2, 4, 2]\n",
    "count_twos = numbers.count(2)\n",
    "print(\"Count of 2:\", count_twos)  # 3\n"
   ]
  },
  {
   "cell_type": "markdown",
   "metadata": {
    "id": "l7ucxT52JM46"
   },
   "source": [
    "# 9. reverse ()"
   ]
  },
  {
   "cell_type": "code",
   "execution_count": null,
   "metadata": {
    "id": "mOE11rQ7JTEc"
   },
   "outputs": [],
   "source": [
    "# reverse() → Reverses the list in-place\n",
    "numbers = [1, 2, 3, 4]\n",
    "numbers.reverse()\n",
    "print(\"After reverse:\", numbers)  # [4, 3, 2, 1]\n"
   ]
  },
  {
   "cell_type": "markdown",
   "metadata": {
    "id": "6duU-du-JYQ-"
   },
   "source": [
    "# 10. sort ()"
   ]
  },
  {
   "cell_type": "code",
   "execution_count": null,
   "metadata": {
    "id": "0sOZwZANJcfW"
   },
   "outputs": [],
   "source": [
    "# sort() → Sorts the list in ascending order\n",
    "numbers = [3, 1, 4, 2]\n",
    "numbers.sort()\n",
    "print(\"After sort:\", numbers)  # [1, 2, 3, 4]\n"
   ]
  },
  {
   "cell_type": "markdown",
   "metadata": {
    "id": "3uarn1YxJ2Au"
   },
   "source": [
    "# 11. copy ()\n",
    "\n"
   ]
  },
  {
   "cell_type": "code",
   "execution_count": null,
   "metadata": {
    "id": "jcNkj6f4J-Mq"
   },
   "outputs": [],
   "source": [
    "# copy() → Returns a shallow copy of the list\n",
    "numbers = [1, 2, 3]\n",
    "copy_numbers = numbers.copy()\n",
    "print(\"Copied list:\", copy_numbers)  # [1, 2, 3]\n"
   ]
  },
  {
   "cell_type": "markdown",
   "metadata": {
    "id": "Y41C_RWrKHWm"
   },
   "source": [
    "# 12. len ()"
   ]
  },
  {
   "cell_type": "code",
   "execution_count": null,
   "metadata": {
    "id": "6tvGooWHKMUf"
   },
   "outputs": [],
   "source": [
    "# len() → Returns the number of elements in the list\n",
    "numbers = [1, 2, 3, 4]\n",
    "print(\"Length of list:\", len(numbers))  # 4\n"
   ]
  },
  {
   "cell_type": "markdown",
   "metadata": {
    "id": "KSQIPeCyKcUh"
   },
   "source": [
    "# 13. sum ()"
   ]
  },
  {
   "cell_type": "code",
   "execution_count": null,
   "metadata": {
    "id": "cf1bPRIrKhOD"
   },
   "outputs": [],
   "source": [
    "# sum() → Returns the sum of all numeric elements in the list\n",
    "numbers = [1, 2, 3, 4]\n",
    "total = sum(numbers)\n",
    "print(\"Sum of list:\", total)  # 10\n"
   ]
  },
  {
   "cell_type": "markdown",
   "metadata": {
    "id": "hFOlUnVLKqVE"
   },
   "source": [
    "# 14. min () and max ()"
   ]
  },
  {
   "cell_type": "code",
   "execution_count": null,
   "metadata": {
    "id": "1ybiVAFNKwMp"
   },
   "outputs": [],
   "source": [
    "# max() → Returns the largest element in the list\n",
    "# min() → Returns the smallest element in the list\n",
    "numbers = [5, 8, 2, 10, 3]\n",
    "print(\"Max value:\", max(numbers))  # 10\n",
    "print(\"Min value:\", min(numbers))  # 2\n"
   ]
  },
  {
   "cell_type": "markdown",
   "metadata": {
    "id": "MWi1062i1V1m"
   },
   "source": [
    "# Problem Statement: List Operations\n",
    "## Problem:\n",
    "\n",
    "### A. You are given a list of integers. Write a Python program to perform the following operations sequentially:\n",
    "\n",
    "1. Append the number 100 to the end of the list.\n",
    "\n",
    "2. Insert the number 50 at the 3rd position (index 2).\n",
    "\n",
    "3. Remove the first occurrence of the number 20.\n",
    "\n",
    "4. Count how many times 10 appears in the list.\n",
    "\n",
    "5. Reverse the list.\n",
    "\n",
    "6. Sort the list in ascending order.\n",
    "\n",
    "7. Find the maximum and minimum values in the list.\n",
    "\n",
    "8. Calculate the sum of all elements in the list.\n",
    "\n",
    "\n",
    "\n",
    "\n",
    "\n",
    "\n",
    "\n",
    "\n",
    "\n",
    "\n",
    "\n"
   ]
  },
  {
   "cell_type": "markdown",
   "metadata": {
    "id": "FMFGH9z-2aIT"
   },
   "source": [
    "1. Append the number 100 to the end of the list"
   ]
  },
  {
   "cell_type": "code",
   "execution_count": null,
   "metadata": {
    "id": "OO7njJq-1o9e"
   },
   "outputs": [],
   "source": [
    "# Given list\n",
    "numbers = [10, 20, 30, 40]\n",
    "\n",
    "# Append 100 to the list\n",
    "numbers.append(100)\n",
    "\n",
    "# Print the updated list\n",
    "print(\"Updated list after append:\", numbers)\n"
   ]
  },
  {
   "cell_type": "markdown",
   "metadata": {
    "id": "hShGnBwQ3ban"
   },
   "source": [
    "2. Insert the number 50 at the 3rd position (index 2)."
   ]
  },
  {
   "cell_type": "code",
   "execution_count": null,
   "metadata": {
    "id": "eLvq1qbc40dg"
   },
   "outputs": [],
   "source": [
    "# Given list\n",
    "numbers = [10, 20, 30, 40]\n",
    "\n",
    "# Insert 50 at index 2 (3rd position)\n",
    "numbers.insert(2, 50)\n",
    "\n",
    "# Print the updated list\n",
    "print(\"Updated list after insert:\", numbers)\n"
   ]
  },
  {
   "cell_type": "markdown",
   "metadata": {
    "id": "300gcHng5ig2"
   },
   "source": [
    "3. Remove the first occurrence of the number 20"
   ]
  },
  {
   "cell_type": "code",
   "execution_count": 1,
   "metadata": {
    "colab": {
     "base_uri": "https://localhost:8080/"
    },
    "id": "aPOuVzyc5mxl",
    "outputId": "6e4f48b3-133b-4cac-f55d-2605abd33c14"
   },
   "outputs": [
    {
     "name": "stdout",
     "output_type": "stream",
     "text": [
      "Updated list after removing 20: [10, 30, 40, 20]\n"
     ]
    }
   ],
   "source": [
    "# Given list\n",
    "numbers = [10, 20, 30, 40, 20]\n",
    "\n",
    "# Remove the first occurrence of 20\n",
    "numbers.remove(20)\n",
    "\n",
    "# Print the updated list\n",
    "print(\"Updated list after removing 20:\", numbers)\n"
   ]
  },
  {
   "cell_type": "markdown",
   "metadata": {
    "id": "b19XFzxW5vtP"
   },
   "source": [
    "4. Count how many times 10 appears in the list."
   ]
  },
  {
   "cell_type": "code",
   "execution_count": null,
   "metadata": {
    "id": "38F3K6U954Sj"
   },
   "outputs": [],
   "source": [
    "# Given list\n",
    "numbers = [10, 20, 30, 10, 40, 10]\n",
    "\n",
    "# Count how many times 10 appears\n",
    "count_of_10 = numbers.count(10)\n",
    "\n",
    "# Print the count\n",
    "print(\"Number of times 10 appears:\", count_of_10)\n"
   ]
  },
  {
   "cell_type": "markdown",
   "metadata": {
    "id": "1mqTu0SK59wt"
   },
   "source": [
    "5. Reverse a List"
   ]
  },
  {
   "cell_type": "code",
   "execution_count": null,
   "metadata": {
    "id": "DKJkPhHp6Ixb"
   },
   "outputs": [],
   "source": [
    "# Given list\n",
    "numbers = [10, 20, 30, 40, 50]\n",
    "\n",
    "# Reverse the list\n",
    "numbers.reverse()\n",
    "\n",
    "# Print the reversed list\n",
    "print(\"List after reverse:\", numbers)\n"
   ]
  },
  {
   "cell_type": "markdown",
   "metadata": {
    "id": "S9eMTysT6MrB"
   },
   "source": [
    "6. Sort the list in ascending order."
   ]
  },
  {
   "cell_type": "code",
   "execution_count": null,
   "metadata": {
    "id": "iPttXs886Suv"
   },
   "outputs": [],
   "source": [
    "# Given list\n",
    "numbers = [50, 20, 40, 10, 30]\n",
    "\n",
    "# Sort the list in ascending order\n",
    "numbers.sort()\n",
    "\n",
    "# Print the sorted list\n",
    "print(\"List after sort:\", numbers)\n"
   ]
  },
  {
   "cell_type": "markdown",
   "metadata": {
    "id": "9IyObVU46YYQ"
   },
   "source": [
    "7. Find the maximum and minimum values in the list."
   ]
  },
  {
   "cell_type": "code",
   "execution_count": null,
   "metadata": {
    "id": "6YEwLahP6dDF"
   },
   "outputs": [],
   "source": [
    "# Given list\n",
    "numbers = [50, 20, 40, 10, 30]\n",
    "\n",
    "# Find maximum and minimum values\n",
    "maximum_value = max(numbers)\n",
    "minimum_value = min(numbers)\n",
    "\n",
    "# Print the values\n",
    "print(\"Maximum value:\", maximum_value)\n",
    "print(\"Minimum value:\", minimum_value)\n"
   ]
  },
  {
   "cell_type": "markdown",
   "metadata": {
    "id": "UH11aKuC6w62"
   },
   "source": [
    "8. the sum of all elements in the list."
   ]
  },
  {
   "cell_type": "code",
   "execution_count": null,
   "metadata": {
    "id": "d6rw98bX60Vt"
   },
   "outputs": [],
   "source": [
    "# Given list\n",
    "numbers = [50, 20, 40, 10, 30]\n",
    "\n",
    "# Calculate the sum of all elements\n",
    "total_sum = sum(numbers)\n",
    "\n",
    "# Print the sum\n",
    "print(\"Sum of list:\", total_sum)\n"
   ]
  },
  {
   "cell_type": "code",
   "execution_count": 1,
   "metadata": {},
   "outputs": [
    {
     "name": "stderr",
     "output_type": "stream",
     "text": [
      "Cloning into 'TNS_DSA'...\n",
      "warning: You appear to have cloned an empty repository.\n"
     ]
    }
   ],
   "source": [
    "!git clone https://github.com/naynajn05/TNS_DSA.git"
   ]
  },
  {
   "cell_type": "code",
   "execution_count": 2,
   "metadata": {},
   "outputs": [
    {
     "name": "stdout",
     "output_type": "stream",
     "text": [
      "C:\\Users\\HP\\TNS_DSA\n"
     ]
    }
   ],
   "source": [
    "%cd TNS_DSA"
   ]
  },
  {
   "cell_type": "code",
   "execution_count": 5,
   "metadata": {},
   "outputs": [
    {
     "name": "stdout",
     "output_type": "stream",
     "text": [
      "Reinitialized existing Git repository in C:/Users/HP/TNS_DSA/.git/\n"
     ]
    },
    {
     "name": "stderr",
     "output_type": "stream",
     "text": [
      "error: remote origin already exists.\n"
     ]
    }
   ],
   "source": [
    "!git init\n",
    "!git remote add origin https://github.com/naynajn05/TNS_DSA.git\n"
   ]
  },
  {
   "cell_type": "code",
   "execution_count": 6,
   "metadata": {},
   "outputs": [
    {
     "name": "stdout",
     "output_type": "stream",
     "text": [
      "Reinitialized existing Git repository in C:/Users/HP/TNS_DSA/.git/\n"
     ]
    }
   ],
   "source": [
    "!git init"
   ]
  },
  {
   "cell_type": "code",
   "execution_count": 7,
   "metadata": {},
   "outputs": [
    {
     "name": "stderr",
     "output_type": "stream",
     "text": [
      "fatal: pathspec 'DSA_Module_(List).ipynb' did not match any files\n",
      "Author identity unknown\n",
      "\n",
      "*** Please tell me who you are.\n",
      "\n",
      "Run\n",
      "\n",
      "  git config --global user.email \"you@example.com\"\n",
      "  git config --global user.name \"Your Name\"\n",
      "\n",
      "to set your account's default identity.\n",
      "Omit --global to set the identity only in this repository.\n",
      "\n",
      "fatal: unable to auto-detect email address (got 'HP@LAPTOP-N6BHAJN2.(none)')\n"
     ]
    }
   ],
   "source": [
    "!git add DSA_Module_(List).ipynb\n",
    "!git commit -m \"Added Jupyter Notebook\"\n"
   ]
  },
  {
   "cell_type": "code",
   "execution_count": 8,
   "metadata": {},
   "outputs": [
    {
     "name": "stderr",
     "output_type": "stream",
     "text": [
      "'ls' is not recognized as an internal or external command,\n",
      "operable program or batch file.\n"
     ]
    }
   ],
   "source": [
    "!ls\n"
   ]
  },
  {
   "cell_type": "code",
   "execution_count": 9,
   "metadata": {},
   "outputs": [
    {
     "name": "stderr",
     "output_type": "stream",
     "text": [
      "'ls' is not recognized as an internal or external command,\n",
      "operable program or batch file.\n",
      "fatal: pathspec 'DSA_Module_(List).ipynb' did not match any files\n"
     ]
    },
    {
     "name": "stdout",
     "output_type": "stream",
     "text": [
      "On branch main\n",
      "\n",
      "Initial commit\n",
      "\n",
      "nothing to commit (create/copy files and use \"git add\" to track)\n"
     ]
    },
    {
     "name": "stderr",
     "output_type": "stream",
     "text": [
      "error: src refspec main does not match any\n",
      "error: failed to push some refs to 'https://github.com/naynajn05/TNS_DSA.git'\n"
     ]
    }
   ],
   "source": [
    "# Set Git user identity\n",
    "!git config --global user.name \"Nayna Dahatonde\"\n",
    "!git config --global user.email \"naynajn05@gmail.com\"\n",
    "\n",
    "# Confirm correct filename\n",
    "!ls\n",
    "\n",
    "# Add notebook (use exact filename from above output)\n",
    "!git add \"DSA_Module_(List).ipynb\"\n",
    "\n",
    "# Commit and push\n",
    "!git commit -m \"Added DSA list module notebook\"\n",
    "!git push -u origin main\n"
   ]
  },
  {
   "cell_type": "code",
   "execution_count": null,
   "metadata": {},
   "outputs": [],
   "source": []
  }
 ],
 "metadata": {
  "colab": {
   "provenance": []
  },
  "kernelspec": {
   "display_name": "Python 3 (ipykernel)",
   "language": "python",
   "name": "python3"
  },
  "language_info": {
   "codemirror_mode": {
    "name": "ipython",
    "version": 3
   },
   "file_extension": ".py",
   "mimetype": "text/x-python",
   "name": "python",
   "nbconvert_exporter": "python",
   "pygments_lexer": "ipython3",
   "version": "3.13.5"
  }
 },
 "nbformat": 4,
 "nbformat_minor": 4
}
